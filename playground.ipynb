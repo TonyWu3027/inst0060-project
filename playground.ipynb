{
 "cells": [
  {
   "cell_type": "code",
   "execution_count": null,
   "metadata": {},
   "outputs": [],
   "source": [
    "from covidcomp.data import RawRepresentation, DerivedRepresentation\n",
    "from covidcomp.model import L2RegularisedLogisticRegression\n",
    "from covidcomp.experiment import ExperimentRunner\n",
    "import matplotlib.pyplot as plt\n",
    "from sklearn.decomposition import PCA\n",
    "from fomlads.model.classification import logistic_regression_fit, logistic_regression_predict, shared_covariance_model_fit, shared_covariance_model_predict\n",
    "from fomlads.evaluate.eval_classification import eval_accuracy\n",
    "import numpy as np"
   ]
  },
  {
   "cell_type": "markdown",
   "metadata": {},
   "source": [
    "## Create raw data representation from `./covid.csv` and auxiliary datasets"
   ]
  },
  {
   "cell_type": "code",
   "execution_count": null,
   "metadata": {},
   "outputs": [],
   "source": [
    "raw = RawRepresentation(\"./covid.csv\")"
   ]
  },
  {
   "cell_type": "markdown",
   "metadata": {},
   "source": [
    "## Prepare the model"
   ]
  },
  {
   "cell_type": "code",
   "execution_count": null,
   "metadata": {},
   "outputs": [],
   "source": [
    "model = L2RegularisedLogisticRegression(lambda_=1e3)"
   ]
  },
  {
   "cell_type": "markdown",
   "metadata": {},
   "source": [
    "# Flat comparison\n",
    "## Get flat data representation and fit model on Flat and test"
   ]
  },
  {
   "cell_type": "code",
   "execution_count": null,
   "metadata": {},
   "outputs": [],
   "source": [
    "flat_raw = raw.get_representation()\n",
    "ExperimentRunner.run_train_and_test(flat_raw, model, label=\"Flat\")"
   ]
  },
  {
   "cell_type": "markdown",
   "metadata": {},
   "source": [
    "# Partition by Continent\n",
    "\n",
    "## Generate raw and partitioned representations by continent. For each continent, get the derived representation and conduct experiment"
   ]
  },
  {
   "cell_type": "code",
   "execution_count": null,
   "metadata": {},
   "outputs": [],
   "source": [
    "partitioned_by_continent_dict = raw.get_representation(\"continent\")\n",
    "ExperimentRunner.run_train_and_test(partitioned_by_continent_dict, model, label=\"Continent\")"
   ]
  },
  {
   "cell_type": "markdown",
   "metadata": {},
   "source": [
    "# Partition by Income Group\n",
    "\n",
    "## Generate raw and partitioned representations by Income Group. For each Income Group, get the derived representation and conduct experiment"
   ]
  },
  {
   "cell_type": "code",
   "execution_count": null,
   "metadata": {},
   "outputs": [],
   "source": [
    "partitioned_by_income = raw.get_representation(\"income_group\")\n",
    "ExperimentRunner.run_train_and_test(partitioned_by_income, model, label=\"Income Group\")"
   ]
  }
 ],
 "metadata": {
  "interpreter": {
   "hash": "feae24981034768ff11a763b6c16e8f0c32af10bd895fa2aa429bb7ff4622bb8"
  },
  "kernelspec": {
   "display_name": "Python 3.7.11 64-bit ('inst0060': conda)",
   "name": "python3"
  },
  "language_info": {
   "codemirror_mode": {
    "name": "ipython",
    "version": 3
   },
   "file_extension": ".py",
   "mimetype": "text/x-python",
   "name": "python",
   "nbconvert_exporter": "python",
   "pygments_lexer": "ipython3",
   "version": "3.7.11"
  }
 },
 "nbformat": 4,
 "nbformat_minor": 2
}
