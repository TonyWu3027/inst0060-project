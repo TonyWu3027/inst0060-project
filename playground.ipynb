{
 "cells": [
  {
   "cell_type": "code",
   "execution_count": null,
   "metadata": {},
   "outputs": [],
   "source": [
    "from covidcomp.data import RawRepresentation, DerivedRepresentation\n",
    "import matplotlib.pyplot as plt\n",
    "from sklearn.decomposition import PCA\n",
    "from fomlads.model.classification import logistic_regression_fit, logistic_regression_predict, shared_covariance_model_fit, shared_covariance_model_predict\n",
    "from fomlads.evaluate.eval_classification import eval_accuracy"
   ]
  },
  {
   "cell_type": "markdown",
   "metadata": {},
   "source": [
    "## Create raw data representation from `./covid.csv` and auxiliary datasets"
   ]
  },
  {
   "cell_type": "code",
   "execution_count": null,
   "metadata": {},
   "outputs": [],
   "source": [
    "raw = RawRepresentation(\"./covid.csv\")"
   ]
  },
  {
   "cell_type": "markdown",
   "metadata": {},
   "source": [
    "# Flat comparison\n",
    "## Get flat data representation"
   ]
  },
  {
   "cell_type": "code",
   "execution_count": null,
   "metadata": {},
   "outputs": [],
   "source": [
    "flat_input, flat_target = raw.get_flat_representation()"
   ]
  },
  {
   "cell_type": "markdown",
   "metadata": {},
   "source": [
    "## Fit model on Flat and test"
   ]
  },
  {
   "cell_type": "code",
   "execution_count": null,
   "metadata": {},
   "outputs": [],
   "source": [
    "flat_derived = DerivedRepresentation(flat_input, flat_target)\n",
    "flat_train_inputs = flat_derived.train_inputs\n",
    "flat_train_targets = flat_derived.train_targets\n",
    "flat_test_inputs = flat_derived.test_inputs\n",
    "flat_test_targets = flat_derived.test_targets\n",
    "\n",
    "print(f\"Number of pairs in flat: {flat_train_inputs.shape[0]}\")\n",
    "\n",
    "weights = logistic_regression_fit(flat_train_inputs, flat_train_targets)\n",
    "flat_test_predictions = logistic_regression_predict(flat_test_inputs, weights)\n",
    "\n",
    "accuracy = eval_accuracy(flat_test_targets, flat_test_predictions)\n",
    "print(f'Flat Accuracy - : {accuracy}')"
   ]
  },
  {
   "cell_type": "markdown",
   "metadata": {},
   "source": [
    "# Partition by Continent\n",
    "\n",
    "## Generate raw and partitioned representations by continent. For each continent, get the derived representation and conduct experiment"
   ]
  },
  {
   "cell_type": "code",
   "execution_count": null,
   "metadata": {},
   "outputs": [],
   "source": [
    "partitioned_by_continent_dict = raw.get_partitioned_representation(\"continent\")\n",
    "\n",
    "accuracy_sum = 0\n",
    "\n",
    "for continent in partitioned_by_continent_dict:\n",
    "    raw_input, raw_target = partitioned_by_continent_dict[continent]\n",
    "    print(f\"\\nNumber of countries in {continent}: {raw_input.shape[0]}\")\n",
    "    derived_continent = DerivedRepresentation(raw_input, raw_target, test_fraction=0.5)\n",
    "    \n",
    "    train_inputs = derived_continent.train_inputs\n",
    "    train_targets = derived_continent.train_targets\n",
    "    test_inputs = derived_continent.test_inputs\n",
    "    test_targets = derived_continent.test_targets\n",
    "    \n",
    "    print(f\"\\nNumber of training pairs in {continent}: {train_inputs.shape[0]}\")\n",
    "        \n",
    "    weights = logistic_regression_fit(train_inputs, train_targets, termination_threshold=10e-4)\n",
    "    test_predictions = logistic_regression_predict(test_inputs, weights)\n",
    "\n",
    "    accuracy = eval_accuracy(test_targets, test_predictions)\n",
    "    accuracy_sum += accuracy\n",
    "    \n",
    "    print(f'{continent} Accuracy - : {accuracy}')\n",
    "    \n",
    "print(f'\\nMean Accuracy by continents - : {accuracy_sum/len(partitioned_by_continent_dict)}')"
   ]
  },
  {
   "cell_type": "markdown",
   "metadata": {},
   "source": [
    "# Partition by Income Group\n",
    "\n",
    "## Generate raw and partitioned representations by Income Group. For each Income Group, get the derived representation and conduct experiment"
   ]
  },
  {
   "cell_type": "code",
   "execution_count": null,
   "metadata": {},
   "outputs": [],
   "source": [
    "partitioned_by_income = raw.get_partitioned_representation(\"income_group\")\n",
    "\n",
    "accuracy_sum = 0\n",
    "\n",
    "for income_group in partitioned_by_income:\n",
    "    raw_input, raw_target = partitioned_by_income[income_group]\n",
    "    print(f\"\\nNumber of countries in {income_group}: {raw_input.shape[0]}\")\n",
    "    derived_income = DerivedRepresentation(raw_input, raw_target, test_fraction=0.2)\n",
    "    \n",
    "    train_inputs = derived_income.train_inputs\n",
    "    train_targets = derived_income.train_targets\n",
    "    test_inputs = derived_income.test_inputs\n",
    "    test_targets = derived_income.test_targets\n",
    "    \n",
    "    print(f\"\\nNumber of training pairs in {income_group}: {train_inputs.shape[0]}\")\n",
    "    \n",
    "    weights = logistic_regression_fit(train_inputs, train_targets, termination_threshold=10e-15)\n",
    "    test_predictions = logistic_regression_predict(test_inputs, weights)\n",
    "\n",
    "    accuracy = eval_accuracy(test_targets, test_predictions)\n",
    "    accuracy_sum += accuracy\n",
    "    \n",
    "    print(f'{continent} Accuracy - : {accuracy}')\n",
    "    \n",
    "print(f'\\nMean Accuracy by income group - : {accuracy_sum/len(partitioned_by_income)}')"
   ]
  },
  {
   "cell_type": "code",
   "execution_count": null,
   "metadata": {},
   "outputs": [],
   "source": []
  }
 ],
 "metadata": {
  "interpreter": {
   "hash": "feae24981034768ff11a763b6c16e8f0c32af10bd895fa2aa429bb7ff4622bb8"
  },
  "kernelspec": {
   "display_name": "Python 3.7.11 64-bit ('inst0060': conda)",
   "name": "python3"
  },
  "language_info": {
   "codemirror_mode": {
    "name": "ipython",
    "version": 3
   },
   "file_extension": ".py",
   "mimetype": "text/x-python",
   "name": "python",
   "nbconvert_exporter": "python",
   "pygments_lexer": "ipython3",
   "version": "3.7.11"
  }
 },
 "nbformat": 4,
 "nbformat_minor": 2
}
