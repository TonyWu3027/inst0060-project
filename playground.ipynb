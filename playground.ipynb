{
 "cells": [
  {
   "cell_type": "code",
   "execution_count": null,
   "metadata": {},
   "outputs": [],
   "source": [
    "from covidcomp.data import RawRepresentation, DerivedRepresentation\n",
    "from covidcomp.model import LogisticRegression\n",
    "from covidcomp.experiment import ExperimentRunner\n",
    "from covidcomp.plot import Plotter\n",
    "from sklearn.decomposition import PCA\n",
    "\n",
    "raw = RawRepresentation(\"./covid.csv\")\n",
    "\n",
    "model = LogisticRegression()\n",
    "num_folds = 6\n",
    "pca = PCA(n_components=8)\n",
    "runner = ExperimentRunner(model, num_folds, pca=pca)\n",
    "\n",
    "plotter = Plotter()\n",
    "\n",
    "flat_dict = raw.get_representation()\n",
    "partitioned_by_continent_dict = raw.get_representation(\"continent\")\n",
    "partitioned_by_income = raw.get_representation(\"income_group\")"
   ]
  },
  {
   "cell_type": "markdown",
   "metadata": {},
   "source": [
    "## Plot correlation matrix heatmap"
   ]
  },
  {
   "cell_type": "code",
   "execution_count": null,
   "metadata": {},
   "outputs": [],
   "source": [
    "plotter.plot_data_corr(raw.frame)"
   ]
  },
  {
   "cell_type": "markdown",
   "metadata": {},
   "source": [
    "## Plot the inputs before preprocessing"
   ]
  },
  {
   "cell_type": "code",
   "execution_count": null,
   "metadata": {},
   "outputs": [],
   "source": [
    "raw_inputs, raw_targets = flat_dict[\"Flat\"]\n",
    "plotter.plot_hist(raw_inputs, title=\"Input Data Before Preprocessing\")"
   ]
  },
  {
   "cell_type": "markdown",
   "metadata": {},
   "source": [
    "## Plot the inputs after preprocessing"
   ]
  },
  {
   "cell_type": "code",
   "execution_count": null,
   "metadata": {},
   "outputs": [],
   "source": [
    "flat_derived = DerivedRepresentation(raw_inputs, raw_targets)\n",
    "plotter.plot_hist(flat_derived.preprocessed_inputs, title=\"Input Data After Preprocessing\")"
   ]
  },
  {
   "cell_type": "markdown",
   "metadata": {},
   "source": [
    "## Plot the ratio of variance explained in PCA"
   ]
  },
  {
   "cell_type": "code",
   "execution_count": null,
   "metadata": {},
   "outputs": [],
   "source": [
    "plotter.plot_pca_explained_variance(flat_derived.inputs)"
   ]
  },
  {
   "cell_type": "markdown",
   "metadata": {},
   "source": [
    "# Flat comparison\n",
    "## Get flat data representation and fit model on Flat and test"
   ]
  },
  {
   "cell_type": "code",
   "execution_count": null,
   "metadata": {},
   "outputs": [],
   "source": [
    "results = runner.run_partition_experiment(flat_dict, partitioning_method=\"Flat\")\n",
    "plotter.plot_partitioning_method_results(results)\n",
    "print(f\"Weighted accuracy for Flat: {results.weighted_average_accuracy}\")"
   ]
  },
  {
   "cell_type": "markdown",
   "metadata": {},
   "source": [
    "# Partition by Continent\n",
    "\n",
    "## Generate raw and partitioned representations by continent. For each continent, get the derived representation and conduct experiment"
   ]
  },
  {
   "cell_type": "code",
   "execution_count": null,
   "metadata": {},
   "outputs": [],
   "source": [
    "results = runner.run_partition_experiment(partitioned_by_continent_dict, partitioning_method=\"Continent\")\n",
    "plotter.plot_partitioning_method_results(results)\n",
    "print(f\"Weighted accuracy for Continent: {results.weighted_average_accuracy}\")"
   ]
  },
  {
   "cell_type": "markdown",
   "metadata": {},
   "source": [
    "# Partition by Income Group\n",
    "\n",
    "## Generate raw and partitioned representations by Income Group. For each Income Group, get the derived representation and conduct experiment"
   ]
  },
  {
   "cell_type": "code",
   "execution_count": null,
   "metadata": {},
   "outputs": [],
   "source": [
    "results = runner.run_partition_experiment(partitioned_by_income, partitioning_method=\"Income Group\")\n",
    "plotter.plot_partitioning_method_results(results)\n",
    "print(f\"Weighted accuracy for Income Group: {results.weighted_average_accuracy}\")"
   ]
  }
 ],
 "metadata": {
  "interpreter": {
   "hash": "feae24981034768ff11a763b6c16e8f0c32af10bd895fa2aa429bb7ff4622bb8"
  },
  "kernelspec": {
   "display_name": "Python 3.7.9 64-bit ('inst0060': conda)",
   "name": "python3"
  },
  "language_info": {
   "codemirror_mode": {
    "name": "ipython",
    "version": 3
   },
   "file_extension": ".py",
   "mimetype": "text/x-python",
   "name": "python",
   "nbconvert_exporter": "python",
   "pygments_lexer": "ipython3",
   "version": "3.7.9"
  }
 },
 "nbformat": 4,
 "nbformat_minor": 2
}
