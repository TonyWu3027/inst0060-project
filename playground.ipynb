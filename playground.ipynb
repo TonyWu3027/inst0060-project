{
 "cells": [
  {
   "cell_type": "code",
   "execution_count": null,
   "metadata": {},
   "outputs": [],
   "source": [
    "from covidcomp.data import RawRepresentation, DerivedRepresentation\n",
    "import matplotlib.pyplot as plt\n",
    "from sklearn.model_selection import train_test_split\n",
    "from sklearn.linear_model import LogisticRegression"
   ]
  },
  {
   "cell_type": "markdown",
   "metadata": {},
   "source": [
    "## Create raw data representation from `./covid.csv` and auxiliary datasets"
   ]
  },
  {
   "cell_type": "code",
   "execution_count": null,
   "metadata": {},
   "outputs": [],
   "source": [
    "raw = RawRepresentation(\"./covid.csv\")"
   ]
  },
  {
   "cell_type": "markdown",
   "metadata": {},
   "source": [
    "# Flat comparison\n",
    "## Get flat data representation"
   ]
  },
  {
   "cell_type": "code",
   "execution_count": null,
   "metadata": {},
   "outputs": [],
   "source": [
    "flat_input, flat_target = raw.get_flat_representation()\n",
    "flat_input"
   ]
  },
  {
   "cell_type": "markdown",
   "metadata": {},
   "source": [
    "## Get derived (paired) flat representation"
   ]
  },
  {
   "cell_type": "code",
   "execution_count": null,
   "metadata": {},
   "outputs": [],
   "source": [
    "flat_derived = DerivedRepresentation(flat_input, flat_target)\n",
    "flat_derived_input = flat_derived.input\n",
    "flat_derived_target = flat_derived.target\n",
    "flat_derived_input"
   ]
  },
  {
   "cell_type": "markdown",
   "metadata": {},
   "source": [
    "## Fit model on Flat and test"
   ]
  },
  {
   "cell_type": "code",
   "execution_count": null,
   "metadata": {},
   "outputs": [],
   "source": [
    "sample_size = 300\n",
    "print(f\"Number of pairs in flat: {derived.input.size}\")\n",
    "print(f\"Number of pairs sampled: {sample_size}\")\n",
    "derived_input = flat_derived_input.sample(n=sample_size,random_state=5).to_numpy()\n",
    "derived_target = flat_derived_target.sample(n=sample_size,random_state=5).to_numpy()\n",
    "\n",
    "X_train, X_test, y_train, y_test = train_test_split(derived_input, derived_target, test_size=0.33, random_state=42)\n",
    "Model = LogisticRegression(max_iter = 5000,  random_state = 1)\n",
    "Model.fit(X_train, y_train.ravel())\n",
    "print(f'Flat Accuracy - : {Model.score(X_test, y_test.ravel())}')"
   ]
  },
  {
   "cell_type": "markdown",
   "metadata": {},
   "source": [
    "# Partition by Continent\n",
    "\n",
    "## Generate raw and partitioned representations by continent. For each continent, get the derived representation and conduct experiment"
   ]
  },
  {
   "cell_type": "code",
   "execution_count": null,
   "metadata": {},
   "outputs": [],
   "source": [
    "partitioned_by_continent_dict = raw.get_partitioned_representation(\"continent\")\n",
    "\n",
    "accuracy_sum = 0\n",
    "\n",
    "for continent in partitioned_by_continent_dict:\n",
    "    raw_input, raw_target = partitioned_by_continent_dict[continent]\n",
    "    print(f\"\\nNumber of pairs in {continent}: {raw_input.size}\")\n",
    "    derived_continent = DerivedRepresentation(raw_input, raw_target)\n",
    "    \n",
    "    derived_input = derived_continent.input.to_numpy()\n",
    "    derived_target = derived_continent.target.to_numpy()\n",
    "    \n",
    "    X_train, X_test, y_train, y_test = train_test_split(derived_input, derived_target.ravel(), test_size=0.33, random_state=42)\n",
    "    Model = LogisticRegression(max_iter = 5000,  random_state = 1)\n",
    "    Model.fit(X_train, y_train.ravel())\n",
    "    \n",
    "    accuracy = Model.score(X_test, y_test.ravel())\n",
    "    accuracy_sum += accuracy\n",
    "    \n",
    "    print(f'{continent} Accuracy - : {accuracy}')\n",
    "    \n",
    "print(f'\\nMean Accuracy by continents - : {accuracy_sum/len(partitioned_by_continent_dict)}')"
   ]
  },
  {
   "cell_type": "markdown",
   "metadata": {},
   "source": [
    "# Partition by Income Group\n",
    "\n",
    "## Generate raw and partitioned representations by Income Group. For each Income Group, get the derived representation and conduct experiment"
   ]
  },
  {
   "cell_type": "code",
   "execution_count": null,
   "metadata": {},
   "outputs": [],
   "source": [
    "partitioned_by_income = raw.get_partitioned_representation(\"income_group\")\n",
    "\n",
    "accuracy_sum = 0\n",
    "\n",
    "for income_group in partitioned_by_income:\n",
    "    raw_input, raw_target = partitioned_by_income[income_group]\n",
    "    print(f\"\\nNumber of pairs in {income_group}: {raw_input.size}\")\n",
    "    derived_income = DerivedRepresentation(raw_input, raw_target)\n",
    "    \n",
    "    derived_input = derived_income.input.to_numpy()\n",
    "    derived_target = derived_income.target.to_numpy()\n",
    "    \n",
    "    X_train, X_test, y_train, y_test = train_test_split(derived_input, derived_target.ravel(), test_size=0.33, random_state=42)\n",
    "    Model = LogisticRegression(max_iter = 5000,  random_state = 1)\n",
    "    Model.fit(X_train, y_train.ravel())\n",
    "    \n",
    "    accuracy = Model.score(X_test, y_test.ravel())\n",
    "    accuracy_sum += accuracy\n",
    "    \n",
    "    print(f'{income_group} Accuracy - : {accuracy}')\n",
    "    \n",
    "print(f'\\nMean Accuracy by income group - : {accuracy_sum/len(partitioned_by_income)}')"
   ]
  }
 ],
 "metadata": {
  "interpreter": {
   "hash": "feae24981034768ff11a763b6c16e8f0c32af10bd895fa2aa429bb7ff4622bb8"
  },
  "kernelspec": {
   "display_name": "Python 3.7.11 64-bit ('inst0060': conda)",
   "name": "python3"
  },
  "language_info": {
   "codemirror_mode": {
    "name": "ipython",
    "version": 3
   },
   "file_extension": ".py",
   "mimetype": "text/x-python",
   "name": "python",
   "nbconvert_exporter": "python",
   "pygments_lexer": "ipython3",
   "version": "3.7.11"
  }
 },
 "nbformat": 4,
 "nbformat_minor": 2
}
